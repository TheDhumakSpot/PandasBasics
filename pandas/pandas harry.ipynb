{
 "cells": [
  {
   "cell_type": "markdown",
   "id": "25fd1f8c",
   "metadata": {},
   "source": [
    "# Pandas Basics "
   ]
  },
  {
   "cell_type": "code",
   "execution_count": 1,
   "id": "14030473",
   "metadata": {},
   "outputs": [],
   "source": [
    "import numpy as np\n",
    "import pandas as pd\n",
    "import matplotlib.pyplot as plt"
   ]
  },
  {
   "cell_type": "code",
   "execution_count": 2,
   "id": "f81abc5f",
   "metadata": {},
   "outputs": [],
   "source": [
    "df=pd.DataFrame({'Name': ['Ninad','Ajinkya','Roman'],\n",
    "    'Age':[21,43,23],\n",
    "    'Location':['Wadala','Dombivili','Chembur'],\n",
    "                'Salary':[15000,32000,25000]})\n",
    "\n",
    "#DataFrame is simply like a excel sheet"
   ]
  },
  {
   "cell_type": "code",
   "execution_count": 3,
   "id": "f9317250",
   "metadata": {},
   "outputs": [
    {
     "data": {
      "text/html": [
       "<div>\n",
       "<style scoped>\n",
       "    .dataframe tbody tr th:only-of-type {\n",
       "        vertical-align: middle;\n",
       "    }\n",
       "\n",
       "    .dataframe tbody tr th {\n",
       "        vertical-align: top;\n",
       "    }\n",
       "\n",
       "    .dataframe thead th {\n",
       "        text-align: right;\n",
       "    }\n",
       "</style>\n",
       "<table border=\"1\" class=\"dataframe\">\n",
       "  <thead>\n",
       "    <tr style=\"text-align: right;\">\n",
       "      <th></th>\n",
       "      <th>Name</th>\n",
       "      <th>Age</th>\n",
       "      <th>Location</th>\n",
       "      <th>Salary</th>\n",
       "    </tr>\n",
       "  </thead>\n",
       "  <tbody>\n",
       "    <tr>\n",
       "      <th>0</th>\n",
       "      <td>Ninad</td>\n",
       "      <td>21</td>\n",
       "      <td>Wadala</td>\n",
       "      <td>15000</td>\n",
       "    </tr>\n",
       "    <tr>\n",
       "      <th>1</th>\n",
       "      <td>Ajinkya</td>\n",
       "      <td>43</td>\n",
       "      <td>Dombivili</td>\n",
       "      <td>32000</td>\n",
       "    </tr>\n",
       "    <tr>\n",
       "      <th>2</th>\n",
       "      <td>Roman</td>\n",
       "      <td>23</td>\n",
       "      <td>Chembur</td>\n",
       "      <td>25000</td>\n",
       "    </tr>\n",
       "  </tbody>\n",
       "</table>\n",
       "</div>"
      ],
      "text/plain": [
       "      Name  Age   Location  Salary\n",
       "0    Ninad   21     Wadala   15000\n",
       "1  Ajinkya   43  Dombivili   32000\n",
       "2    Roman   23    Chembur   25000"
      ]
     },
     "execution_count": 3,
     "metadata": {},
     "output_type": "execute_result"
    }
   ],
   "source": [
    "df"
   ]
  },
  {
   "cell_type": "code",
   "execution_count": 4,
   "id": "588f46bf",
   "metadata": {},
   "outputs": [
    {
     "data": {
      "text/plain": [
       "Index(['Name', 'Age', 'Location', 'Salary'], dtype='object')"
      ]
     },
     "execution_count": 4,
     "metadata": {},
     "output_type": "execute_result"
    }
   ],
   "source": [
    "df.columns"
   ]
  },
  {
   "cell_type": "code",
   "execution_count": 5,
   "id": "c9ad880d",
   "metadata": {},
   "outputs": [
    {
     "data": {
      "text/plain": [
       "RangeIndex(start=0, stop=3, step=1)"
      ]
     },
     "execution_count": 5,
     "metadata": {},
     "output_type": "execute_result"
    }
   ],
   "source": [
    "df.index"
   ]
  },
  {
   "cell_type": "markdown",
   "id": "6dc9b951",
   "metadata": {},
   "source": [
    "## To convert DataFrame file in csv"
   ]
  },
  {
   "cell_type": "code",
   "execution_count": 6,
   "id": "efd257ce",
   "metadata": {},
   "outputs": [],
   "source": [
    "#to convert this file in csv\n",
    "\n",
    "df.to_csv('NewFile.csv')\n",
    "#it will be created in the same folder"
   ]
  },
  {
   "cell_type": "code",
   "execution_count": 7,
   "id": "2fafc33c",
   "metadata": {},
   "outputs": [
    {
     "data": {
      "text/html": [
       "<div>\n",
       "<style scoped>\n",
       "    .dataframe tbody tr th:only-of-type {\n",
       "        vertical-align: middle;\n",
       "    }\n",
       "\n",
       "    .dataframe tbody tr th {\n",
       "        vertical-align: top;\n",
       "    }\n",
       "\n",
       "    .dataframe thead th {\n",
       "        text-align: right;\n",
       "    }\n",
       "</style>\n",
       "<table border=\"1\" class=\"dataframe\">\n",
       "  <thead>\n",
       "    <tr style=\"text-align: right;\">\n",
       "      <th></th>\n",
       "      <th>Age</th>\n",
       "      <th>Salary</th>\n",
       "    </tr>\n",
       "  </thead>\n",
       "  <tbody>\n",
       "    <tr>\n",
       "      <th>count</th>\n",
       "      <td>3.000000</td>\n",
       "      <td>3.000000</td>\n",
       "    </tr>\n",
       "    <tr>\n",
       "      <th>mean</th>\n",
       "      <td>29.000000</td>\n",
       "      <td>24000.000000</td>\n",
       "    </tr>\n",
       "    <tr>\n",
       "      <th>std</th>\n",
       "      <td>12.165525</td>\n",
       "      <td>8544.003745</td>\n",
       "    </tr>\n",
       "    <tr>\n",
       "      <th>min</th>\n",
       "      <td>21.000000</td>\n",
       "      <td>15000.000000</td>\n",
       "    </tr>\n",
       "    <tr>\n",
       "      <th>25%</th>\n",
       "      <td>22.000000</td>\n",
       "      <td>20000.000000</td>\n",
       "    </tr>\n",
       "    <tr>\n",
       "      <th>50%</th>\n",
       "      <td>23.000000</td>\n",
       "      <td>25000.000000</td>\n",
       "    </tr>\n",
       "    <tr>\n",
       "      <th>75%</th>\n",
       "      <td>33.000000</td>\n",
       "      <td>28500.000000</td>\n",
       "    </tr>\n",
       "    <tr>\n",
       "      <th>max</th>\n",
       "      <td>43.000000</td>\n",
       "      <td>32000.000000</td>\n",
       "    </tr>\n",
       "  </tbody>\n",
       "</table>\n",
       "</div>"
      ],
      "text/plain": [
       "             Age        Salary\n",
       "count   3.000000      3.000000\n",
       "mean   29.000000  24000.000000\n",
       "std    12.165525   8544.003745\n",
       "min    21.000000  15000.000000\n",
       "25%    22.000000  20000.000000\n",
       "50%    23.000000  25000.000000\n",
       "75%    33.000000  28500.000000\n",
       "max    43.000000  32000.000000"
      ]
     },
     "execution_count": 7,
     "metadata": {},
     "output_type": "execute_result"
    }
   ],
   "source": [
    "df.describe()  #stats about numerical column"
   ]
  },
  {
   "cell_type": "code",
   "execution_count": 8,
   "id": "928752ac",
   "metadata": {},
   "outputs": [
    {
     "data": {
      "text/plain": [
       "Name        3\n",
       "Age         3\n",
       "Location    3\n",
       "Salary      3\n",
       "dtype: int64"
      ]
     },
     "execution_count": 8,
     "metadata": {},
     "output_type": "execute_result"
    }
   ],
   "source": [
    "df.count()"
   ]
  },
  {
   "cell_type": "markdown",
   "id": "1142935b",
   "metadata": {},
   "source": [
    "## Change specific value from dataframe"
   ]
  },
  {
   "cell_type": "code",
   "execution_count": 9,
   "id": "f9c2de8e",
   "metadata": {},
   "outputs": [
    {
     "name": "stdout",
     "output_type": "stream",
     "text": [
      "15000\n",
      "17000\n"
     ]
    },
    {
     "name": "stderr",
     "output_type": "stream",
     "text": [
      "C:\\Users\\HP\\AppData\\Local\\Temp\\ipykernel_3492\\2993874151.py:5: SettingWithCopyWarning: \n",
      "A value is trying to be set on a copy of a slice from a DataFrame\n",
      "\n",
      "See the caveats in the documentation: https://pandas.pydata.org/pandas-docs/stable/user_guide/indexing.html#returning-a-view-versus-a-copy\n",
      "  B=df['Salary'][0]=17000\n"
     ]
    }
   ],
   "source": [
    "A=df['Salary'][0]\n",
    "print(A)\n",
    "#change value from dataframe\n",
    "\n",
    "B=df['Salary'][0]=17000\n",
    "print(B)"
   ]
  },
  {
   "cell_type": "code",
   "execution_count": 10,
   "id": "198f39b9",
   "metadata": {},
   "outputs": [
    {
     "data": {
      "text/html": [
       "<div>\n",
       "<style scoped>\n",
       "    .dataframe tbody tr th:only-of-type {\n",
       "        vertical-align: middle;\n",
       "    }\n",
       "\n",
       "    .dataframe tbody tr th {\n",
       "        vertical-align: top;\n",
       "    }\n",
       "\n",
       "    .dataframe thead th {\n",
       "        text-align: right;\n",
       "    }\n",
       "</style>\n",
       "<table border=\"1\" class=\"dataframe\">\n",
       "  <thead>\n",
       "    <tr style=\"text-align: right;\">\n",
       "      <th></th>\n",
       "      <th>Name</th>\n",
       "      <th>Age</th>\n",
       "      <th>Location</th>\n",
       "      <th>Salary</th>\n",
       "    </tr>\n",
       "  </thead>\n",
       "  <tbody>\n",
       "    <tr>\n",
       "      <th>0</th>\n",
       "      <td>Ninad</td>\n",
       "      <td>21</td>\n",
       "      <td>Wadala</td>\n",
       "      <td>17000</td>\n",
       "    </tr>\n",
       "    <tr>\n",
       "      <th>1</th>\n",
       "      <td>Ajinkya</td>\n",
       "      <td>43</td>\n",
       "      <td>Dombivili</td>\n",
       "      <td>32000</td>\n",
       "    </tr>\n",
       "    <tr>\n",
       "      <th>2</th>\n",
       "      <td>Roman</td>\n",
       "      <td>23</td>\n",
       "      <td>Chembur</td>\n",
       "      <td>25000</td>\n",
       "    </tr>\n",
       "  </tbody>\n",
       "</table>\n",
       "</div>"
      ],
      "text/plain": [
       "      Name  Age   Location  Salary\n",
       "0    Ninad   21     Wadala   17000\n",
       "1  Ajinkya   43  Dombivili   32000\n",
       "2    Roman   23    Chembur   25000"
      ]
     },
     "execution_count": 10,
     "metadata": {},
     "output_type": "execute_result"
    }
   ],
   "source": [
    "df"
   ]
  },
  {
   "cell_type": "code",
   "execution_count": 11,
   "id": "5f204026",
   "metadata": {},
   "outputs": [],
   "source": [
    "#to remove index \n",
    "\n",
    "df.to_csv('NewFile1.csv',index=False)\n",
    "# df will not show index values in csv file"
   ]
  },
  {
   "cell_type": "code",
   "execution_count": 12,
   "id": "8ab796f6",
   "metadata": {},
   "outputs": [
    {
     "data": {
      "text/html": [
       "<div>\n",
       "<style scoped>\n",
       "    .dataframe tbody tr th:only-of-type {\n",
       "        vertical-align: middle;\n",
       "    }\n",
       "\n",
       "    .dataframe tbody tr th {\n",
       "        vertical-align: top;\n",
       "    }\n",
       "\n",
       "    .dataframe thead th {\n",
       "        text-align: right;\n",
       "    }\n",
       "</style>\n",
       "<table border=\"1\" class=\"dataframe\">\n",
       "  <thead>\n",
       "    <tr style=\"text-align: right;\">\n",
       "      <th></th>\n",
       "      <th>Name</th>\n",
       "      <th>Age</th>\n",
       "      <th>Location</th>\n",
       "      <th>Salary</th>\n",
       "    </tr>\n",
       "  </thead>\n",
       "  <tbody>\n",
       "    <tr>\n",
       "      <th>1</th>\n",
       "      <td>Ninad</td>\n",
       "      <td>21</td>\n",
       "      <td>Wadala</td>\n",
       "      <td>17000</td>\n",
       "    </tr>\n",
       "    <tr>\n",
       "      <th>2</th>\n",
       "      <td>Ajinkya</td>\n",
       "      <td>43</td>\n",
       "      <td>Dombivili</td>\n",
       "      <td>32000</td>\n",
       "    </tr>\n",
       "    <tr>\n",
       "      <th>3</th>\n",
       "      <td>Roman</td>\n",
       "      <td>23</td>\n",
       "      <td>Chembur</td>\n",
       "      <td>25000</td>\n",
       "    </tr>\n",
       "  </tbody>\n",
       "</table>\n",
       "</div>"
      ],
      "text/plain": [
       "      Name  Age   Location  Salary\n",
       "1    Ninad   21     Wadala   17000\n",
       "2  Ajinkya   43  Dombivili   32000\n",
       "3    Roman   23    Chembur   25000"
      ]
     },
     "execution_count": 12,
     "metadata": {},
     "output_type": "execute_result"
    }
   ],
   "source": [
    "#to change index values\n",
    "\n",
    "df.index=[1,2,3]\n",
    "df"
   ]
  },
  {
   "cell_type": "markdown",
   "id": "b72b0e8f",
   "metadata": {},
   "source": [
    "## Multiple Series makes one DataFrame"
   ]
  },
  {
   "cell_type": "code",
   "execution_count": 13,
   "id": "47c7b95e",
   "metadata": {},
   "outputs": [
    {
     "data": {
      "text/plain": [
       "0    0.723877\n",
       "1    0.429061\n",
       "2    0.334605\n",
       "3    0.486212\n",
       "4    0.602286\n",
       "5    0.949713\n",
       "6    0.715659\n",
       "dtype: float64"
      ]
     },
     "execution_count": 13,
     "metadata": {},
     "output_type": "execute_result"
    }
   ],
   "source": [
    "C=pd.Series(np.random.rand(7))\n",
    "C"
   ]
  },
  {
   "cell_type": "code",
   "execution_count": 14,
   "id": "2c50ca5a",
   "metadata": {},
   "outputs": [
    {
     "data": {
      "text/plain": [
       "pandas.core.series.Series"
      ]
     },
     "execution_count": 14,
     "metadata": {},
     "output_type": "execute_result"
    }
   ],
   "source": [
    "type(C)"
   ]
  },
  {
   "cell_type": "code",
   "execution_count": 15,
   "id": "35e4e9b7",
   "metadata": {},
   "outputs": [
    {
     "data": {
      "text/html": [
       "<div>\n",
       "<style scoped>\n",
       "    .dataframe tbody tr th:only-of-type {\n",
       "        vertical-align: middle;\n",
       "    }\n",
       "\n",
       "    .dataframe tbody tr th {\n",
       "        vertical-align: top;\n",
       "    }\n",
       "\n",
       "    .dataframe thead th {\n",
       "        text-align: right;\n",
       "    }\n",
       "</style>\n",
       "<table border=\"1\" class=\"dataframe\">\n",
       "  <thead>\n",
       "    <tr style=\"text-align: right;\">\n",
       "      <th></th>\n",
       "      <th>0</th>\n",
       "      <th>1</th>\n",
       "      <th>2</th>\n",
       "    </tr>\n",
       "  </thead>\n",
       "  <tbody>\n",
       "    <tr>\n",
       "      <th>1</th>\n",
       "      <td>0.519148</td>\n",
       "      <td>0.585748</td>\n",
       "      <td>0.471884</td>\n",
       "    </tr>\n",
       "    <tr>\n",
       "      <th>2</th>\n",
       "      <td>0.570717</td>\n",
       "      <td>0.501869</td>\n",
       "      <td>0.150706</td>\n",
       "    </tr>\n",
       "    <tr>\n",
       "      <th>3</th>\n",
       "      <td>0.452569</td>\n",
       "      <td>0.764782</td>\n",
       "      <td>0.121670</td>\n",
       "    </tr>\n",
       "    <tr>\n",
       "      <th>4</th>\n",
       "      <td>0.378490</td>\n",
       "      <td>0.201825</td>\n",
       "      <td>0.616656</td>\n",
       "    </tr>\n",
       "    <tr>\n",
       "      <th>5</th>\n",
       "      <td>0.824638</td>\n",
       "      <td>0.537972</td>\n",
       "      <td>0.930496</td>\n",
       "    </tr>\n",
       "  </tbody>\n",
       "</table>\n",
       "</div>"
      ],
      "text/plain": [
       "          0         1         2\n",
       "1  0.519148  0.585748  0.471884\n",
       "2  0.570717  0.501869  0.150706\n",
       "3  0.452569  0.764782  0.121670\n",
       "4  0.378490  0.201825  0.616656\n",
       "5  0.824638  0.537972  0.930496"
      ]
     },
     "execution_count": 15,
     "metadata": {},
     "output_type": "execute_result"
    }
   ],
   "source": [
    "index=[1,2,3,4,5]\n",
    "D=pd.DataFrame(np.random.rand(5,3),index=index)\n",
    "D"
   ]
  },
  {
   "cell_type": "code",
   "execution_count": 16,
   "id": "e8e4af32",
   "metadata": {},
   "outputs": [
    {
     "data": {
      "text/plain": [
       "pandas.core.frame.DataFrame"
      ]
     },
     "execution_count": 16,
     "metadata": {},
     "output_type": "execute_result"
    }
   ],
   "source": [
    "type(D)"
   ]
  },
  {
   "cell_type": "code",
   "execution_count": 17,
   "id": "e76b392e",
   "metadata": {},
   "outputs": [
    {
     "data": {
      "text/plain": [
       "0    float64\n",
       "1    float64\n",
       "2    float64\n",
       "dtype: object"
      ]
     },
     "execution_count": 17,
     "metadata": {},
     "output_type": "execute_result"
    }
   ],
   "source": [
    "D.dtypes"
   ]
  },
  {
   "cell_type": "markdown",
   "id": "b47f6856",
   "metadata": {},
   "source": [
    "## To convert DataFrame to numpy array"
   ]
  },
  {
   "cell_type": "code",
   "execution_count": 18,
   "id": "ad271ee8",
   "metadata": {},
   "outputs": [
    {
     "data": {
      "text/plain": [
       "array([[0.51914827, 0.58574805, 0.47188385],\n",
       "       [0.57071666, 0.5018691 , 0.15070633],\n",
       "       [0.45256903, 0.76478181, 0.12167035],\n",
       "       [0.37849037, 0.20182498, 0.61665631],\n",
       "       [0.82463771, 0.53797153, 0.93049603]])"
      ]
     },
     "execution_count": 18,
     "metadata": {},
     "output_type": "execute_result"
    }
   ],
   "source": [
    "#to convert DataFrame to numpy array\n",
    "\n",
    "D.to_numpy()"
   ]
  },
  {
   "cell_type": "code",
   "execution_count": 19,
   "id": "a391959c",
   "metadata": {},
   "outputs": [
    {
     "data": {
      "text/html": [
       "<div>\n",
       "<style scoped>\n",
       "    .dataframe tbody tr th:only-of-type {\n",
       "        vertical-align: middle;\n",
       "    }\n",
       "\n",
       "    .dataframe tbody tr th {\n",
       "        vertical-align: top;\n",
       "    }\n",
       "\n",
       "    .dataframe thead th {\n",
       "        text-align: right;\n",
       "    }\n",
       "</style>\n",
       "<table border=\"1\" class=\"dataframe\">\n",
       "  <thead>\n",
       "    <tr style=\"text-align: right;\">\n",
       "      <th></th>\n",
       "      <th>1</th>\n",
       "      <th>2</th>\n",
       "      <th>3</th>\n",
       "      <th>4</th>\n",
       "      <th>5</th>\n",
       "    </tr>\n",
       "  </thead>\n",
       "  <tbody>\n",
       "    <tr>\n",
       "      <th>0</th>\n",
       "      <td>0.519148</td>\n",
       "      <td>0.570717</td>\n",
       "      <td>0.452569</td>\n",
       "      <td>0.378490</td>\n",
       "      <td>0.824638</td>\n",
       "    </tr>\n",
       "    <tr>\n",
       "      <th>1</th>\n",
       "      <td>0.585748</td>\n",
       "      <td>0.501869</td>\n",
       "      <td>0.764782</td>\n",
       "      <td>0.201825</td>\n",
       "      <td>0.537972</td>\n",
       "    </tr>\n",
       "    <tr>\n",
       "      <th>2</th>\n",
       "      <td>0.471884</td>\n",
       "      <td>0.150706</td>\n",
       "      <td>0.121670</td>\n",
       "      <td>0.616656</td>\n",
       "      <td>0.930496</td>\n",
       "    </tr>\n",
       "  </tbody>\n",
       "</table>\n",
       "</div>"
      ],
      "text/plain": [
       "          1         2         3         4         5\n",
       "0  0.519148  0.570717  0.452569  0.378490  0.824638\n",
       "1  0.585748  0.501869  0.764782  0.201825  0.537972\n",
       "2  0.471884  0.150706  0.121670  0.616656  0.930496"
      ]
     },
     "execution_count": 19,
     "metadata": {},
     "output_type": "execute_result"
    }
   ],
   "source": [
    "E=D.T  #Transpose\n",
    "E"
   ]
  },
  {
   "cell_type": "code",
   "execution_count": 20,
   "id": "c5dce444",
   "metadata": {},
   "outputs": [
    {
     "data": {
      "text/html": [
       "<div>\n",
       "<style scoped>\n",
       "    .dataframe tbody tr th:only-of-type {\n",
       "        vertical-align: middle;\n",
       "    }\n",
       "\n",
       "    .dataframe tbody tr th {\n",
       "        vertical-align: top;\n",
       "    }\n",
       "\n",
       "    .dataframe thead th {\n",
       "        text-align: right;\n",
       "    }\n",
       "</style>\n",
       "<table border=\"1\" class=\"dataframe\">\n",
       "  <thead>\n",
       "    <tr style=\"text-align: right;\">\n",
       "      <th></th>\n",
       "      <th>0</th>\n",
       "      <th>1</th>\n",
       "      <th>2</th>\n",
       "    </tr>\n",
       "  </thead>\n",
       "  <tbody>\n",
       "    <tr>\n",
       "      <th>5</th>\n",
       "      <td>0.824638</td>\n",
       "      <td>0.537972</td>\n",
       "      <td>0.930496</td>\n",
       "    </tr>\n",
       "    <tr>\n",
       "      <th>4</th>\n",
       "      <td>0.378490</td>\n",
       "      <td>0.201825</td>\n",
       "      <td>0.616656</td>\n",
       "    </tr>\n",
       "    <tr>\n",
       "      <th>3</th>\n",
       "      <td>0.452569</td>\n",
       "      <td>0.764782</td>\n",
       "      <td>0.121670</td>\n",
       "    </tr>\n",
       "    <tr>\n",
       "      <th>2</th>\n",
       "      <td>0.570717</td>\n",
       "      <td>0.501869</td>\n",
       "      <td>0.150706</td>\n",
       "    </tr>\n",
       "    <tr>\n",
       "      <th>1</th>\n",
       "      <td>0.519148</td>\n",
       "      <td>0.585748</td>\n",
       "      <td>0.471884</td>\n",
       "    </tr>\n",
       "  </tbody>\n",
       "</table>\n",
       "</div>"
      ],
      "text/plain": [
       "          0         1         2\n",
       "5  0.824638  0.537972  0.930496\n",
       "4  0.378490  0.201825  0.616656\n",
       "3  0.452569  0.764782  0.121670\n",
       "2  0.570717  0.501869  0.150706\n",
       "1  0.519148  0.585748  0.471884"
      ]
     },
     "execution_count": 20,
     "metadata": {},
     "output_type": "execute_result"
    }
   ],
   "source": [
    "F=D.sort_index(axis=0,ascending=False)\n",
    "F\n",
    "#axis 0 is row and axis 1 is column"
   ]
  },
  {
   "cell_type": "code",
   "execution_count": 21,
   "id": "32c1dfb5",
   "metadata": {},
   "outputs": [
    {
     "data": {
      "text/html": [
       "<div>\n",
       "<style scoped>\n",
       "    .dataframe tbody tr th:only-of-type {\n",
       "        vertical-align: middle;\n",
       "    }\n",
       "\n",
       "    .dataframe tbody tr th {\n",
       "        vertical-align: top;\n",
       "    }\n",
       "\n",
       "    .dataframe thead th {\n",
       "        text-align: right;\n",
       "    }\n",
       "</style>\n",
       "<table border=\"1\" class=\"dataframe\">\n",
       "  <thead>\n",
       "    <tr style=\"text-align: right;\">\n",
       "      <th></th>\n",
       "      <th>2</th>\n",
       "      <th>1</th>\n",
       "      <th>0</th>\n",
       "    </tr>\n",
       "  </thead>\n",
       "  <tbody>\n",
       "    <tr>\n",
       "      <th>1</th>\n",
       "      <td>0.471884</td>\n",
       "      <td>0.585748</td>\n",
       "      <td>0.519148</td>\n",
       "    </tr>\n",
       "    <tr>\n",
       "      <th>2</th>\n",
       "      <td>0.150706</td>\n",
       "      <td>0.501869</td>\n",
       "      <td>0.570717</td>\n",
       "    </tr>\n",
       "    <tr>\n",
       "      <th>3</th>\n",
       "      <td>0.121670</td>\n",
       "      <td>0.764782</td>\n",
       "      <td>0.452569</td>\n",
       "    </tr>\n",
       "    <tr>\n",
       "      <th>4</th>\n",
       "      <td>0.616656</td>\n",
       "      <td>0.201825</td>\n",
       "      <td>0.378490</td>\n",
       "    </tr>\n",
       "    <tr>\n",
       "      <th>5</th>\n",
       "      <td>0.930496</td>\n",
       "      <td>0.537972</td>\n",
       "      <td>0.824638</td>\n",
       "    </tr>\n",
       "  </tbody>\n",
       "</table>\n",
       "</div>"
      ],
      "text/plain": [
       "          2         1         0\n",
       "1  0.471884  0.585748  0.519148\n",
       "2  0.150706  0.501869  0.570717\n",
       "3  0.121670  0.764782  0.452569\n",
       "4  0.616656  0.201825  0.378490\n",
       "5  0.930496  0.537972  0.824638"
      ]
     },
     "execution_count": 21,
     "metadata": {},
     "output_type": "execute_result"
    }
   ],
   "source": [
    "G=D.sort_index(axis=1,ascending=False)\n",
    "G"
   ]
  },
  {
   "cell_type": "code",
   "execution_count": 22,
   "id": "056f6756",
   "metadata": {},
   "outputs": [
    {
     "data": {
      "text/plain": [
       "pandas.core.series.Series"
      ]
     },
     "execution_count": 22,
     "metadata": {},
     "output_type": "execute_result"
    }
   ],
   "source": [
    "type(G[2])"
   ]
  },
  {
   "cell_type": "code",
   "execution_count": 23,
   "id": "3c56d27e",
   "metadata": {},
   "outputs": [
    {
     "data": {
      "text/plain": [
       "pandas.core.frame.DataFrame"
      ]
     },
     "execution_count": 23,
     "metadata": {},
     "output_type": "execute_result"
    }
   ],
   "source": [
    "type(G)"
   ]
  },
  {
   "cell_type": "markdown",
   "id": "b577547f",
   "metadata": {},
   "source": [
    "## Change specific value from dataframe using loc"
   ]
  },
  {
   "cell_type": "code",
   "execution_count": 24,
   "id": "f2483989",
   "metadata": {},
   "outputs": [
    {
     "data": {
      "text/html": [
       "<div>\n",
       "<style scoped>\n",
       "    .dataframe tbody tr th:only-of-type {\n",
       "        vertical-align: middle;\n",
       "    }\n",
       "\n",
       "    .dataframe tbody tr th {\n",
       "        vertical-align: top;\n",
       "    }\n",
       "\n",
       "    .dataframe thead th {\n",
       "        text-align: right;\n",
       "    }\n",
       "</style>\n",
       "<table border=\"1\" class=\"dataframe\">\n",
       "  <thead>\n",
       "    <tr style=\"text-align: right;\">\n",
       "      <th></th>\n",
       "      <th>0</th>\n",
       "      <th>1</th>\n",
       "      <th>2</th>\n",
       "    </tr>\n",
       "  </thead>\n",
       "  <tbody>\n",
       "    <tr>\n",
       "      <th>1</th>\n",
       "      <td>0.519148</td>\n",
       "      <td>0.585748</td>\n",
       "      <td>0.471884</td>\n",
       "    </tr>\n",
       "    <tr>\n",
       "      <th>2</th>\n",
       "      <td>0.570717</td>\n",
       "      <td>0.501869</td>\n",
       "      <td>0.150706</td>\n",
       "    </tr>\n",
       "    <tr>\n",
       "      <th>3</th>\n",
       "      <td>0.452569</td>\n",
       "      <td>0.764782</td>\n",
       "      <td>0.121670</td>\n",
       "    </tr>\n",
       "    <tr>\n",
       "      <th>4</th>\n",
       "      <td>0.378490</td>\n",
       "      <td>0.201825</td>\n",
       "      <td>0.616656</td>\n",
       "    </tr>\n",
       "    <tr>\n",
       "      <th>5</th>\n",
       "      <td>0.824638</td>\n",
       "      <td>0.537972</td>\n",
       "      <td>0.930496</td>\n",
       "    </tr>\n",
       "  </tbody>\n",
       "</table>\n",
       "</div>"
      ],
      "text/plain": [
       "          0         1         2\n",
       "1  0.519148  0.585748  0.471884\n",
       "2  0.570717  0.501869  0.150706\n",
       "3  0.452569  0.764782  0.121670\n",
       "4  0.378490  0.201825  0.616656\n",
       "5  0.824638  0.537972  0.930496"
      ]
     },
     "execution_count": 24,
     "metadata": {},
     "output_type": "execute_result"
    }
   ],
   "source": [
    "D"
   ]
  },
  {
   "cell_type": "code",
   "execution_count": 27,
   "id": "0642464c",
   "metadata": {},
   "outputs": [
    {
     "data": {
      "text/html": [
       "<div>\n",
       "<style scoped>\n",
       "    .dataframe tbody tr th:only-of-type {\n",
       "        vertical-align: middle;\n",
       "    }\n",
       "\n",
       "    .dataframe tbody tr th {\n",
       "        vertical-align: top;\n",
       "    }\n",
       "\n",
       "    .dataframe thead th {\n",
       "        text-align: right;\n",
       "    }\n",
       "</style>\n",
       "<table border=\"1\" class=\"dataframe\">\n",
       "  <thead>\n",
       "    <tr style=\"text-align: right;\">\n",
       "      <th></th>\n",
       "      <th>0</th>\n",
       "      <th>1</th>\n",
       "      <th>2</th>\n",
       "    </tr>\n",
       "  </thead>\n",
       "  <tbody>\n",
       "    <tr>\n",
       "      <th>1</th>\n",
       "      <td>0.519148</td>\n",
       "      <td>9876.000000</td>\n",
       "      <td>0.471884</td>\n",
       "    </tr>\n",
       "    <tr>\n",
       "      <th>2</th>\n",
       "      <td>0.570717</td>\n",
       "      <td>0.501869</td>\n",
       "      <td>0.150706</td>\n",
       "    </tr>\n",
       "    <tr>\n",
       "      <th>3</th>\n",
       "      <td>0.452569</td>\n",
       "      <td>0.764782</td>\n",
       "      <td>0.121670</td>\n",
       "    </tr>\n",
       "    <tr>\n",
       "      <th>4</th>\n",
       "      <td>0.378490</td>\n",
       "      <td>0.201825</td>\n",
       "      <td>0.616656</td>\n",
       "    </tr>\n",
       "    <tr>\n",
       "      <th>5</th>\n",
       "      <td>0.824638</td>\n",
       "      <td>0.537972</td>\n",
       "      <td>0.930496</td>\n",
       "    </tr>\n",
       "  </tbody>\n",
       "</table>\n",
       "</div>"
      ],
      "text/plain": [
       "          0            1         2\n",
       "1  0.519148  9876.000000  0.471884\n",
       "2  0.570717     0.501869  0.150706\n",
       "3  0.452569     0.764782  0.121670\n",
       "4  0.378490     0.201825  0.616656\n",
       "5  0.824638     0.537972  0.930496"
      ]
     },
     "execution_count": 27,
     "metadata": {},
     "output_type": "execute_result"
    }
   ],
   "source": [
    "H=D.copy()\n",
    "D.loc[1,1]=9876\n",
    "D"
   ]
  },
  {
   "cell_type": "markdown",
   "id": "425adc50",
   "metadata": {},
   "source": [
    "## Giving Names to columns"
   ]
  },
  {
   "cell_type": "code",
   "execution_count": 33,
   "id": "bddcf887",
   "metadata": {},
   "outputs": [
    {
     "data": {
      "text/html": [
       "<div>\n",
       "<style scoped>\n",
       "    .dataframe tbody tr th:only-of-type {\n",
       "        vertical-align: middle;\n",
       "    }\n",
       "\n",
       "    .dataframe tbody tr th {\n",
       "        vertical-align: top;\n",
       "    }\n",
       "\n",
       "    .dataframe thead th {\n",
       "        text-align: right;\n",
       "    }\n",
       "</style>\n",
       "<table border=\"1\" class=\"dataframe\">\n",
       "  <thead>\n",
       "    <tr style=\"text-align: right;\">\n",
       "      <th></th>\n",
       "      <th>A</th>\n",
       "      <th>B</th>\n",
       "      <th>C</th>\n",
       "    </tr>\n",
       "  </thead>\n",
       "  <tbody>\n",
       "    <tr>\n",
       "      <th>1</th>\n",
       "      <td>0.519148</td>\n",
       "      <td>9876.000000</td>\n",
       "      <td>0.471884</td>\n",
       "    </tr>\n",
       "    <tr>\n",
       "      <th>2</th>\n",
       "      <td>0.570717</td>\n",
       "      <td>0.501869</td>\n",
       "      <td>0.150706</td>\n",
       "    </tr>\n",
       "    <tr>\n",
       "      <th>3</th>\n",
       "      <td>0.452569</td>\n",
       "      <td>0.764782</td>\n",
       "      <td>0.121670</td>\n",
       "    </tr>\n",
       "    <tr>\n",
       "      <th>4</th>\n",
       "      <td>0.378490</td>\n",
       "      <td>0.201825</td>\n",
       "      <td>0.616656</td>\n",
       "    </tr>\n",
       "    <tr>\n",
       "      <th>5</th>\n",
       "      <td>0.824638</td>\n",
       "      <td>0.537972</td>\n",
       "      <td>0.930496</td>\n",
       "    </tr>\n",
       "  </tbody>\n",
       "</table>\n",
       "</div>"
      ],
      "text/plain": [
       "          A            B         C\n",
       "1  0.519148  9876.000000  0.471884\n",
       "2  0.570717     0.501869  0.150706\n",
       "3  0.452569     0.764782  0.121670\n",
       "4  0.378490     0.201825  0.616656\n",
       "5  0.824638     0.537972  0.930496"
      ]
     },
     "execution_count": 33,
     "metadata": {},
     "output_type": "execute_result"
    }
   ],
   "source": [
    "D.columns=list(['A','B','C'])\n",
    "D"
   ]
  },
  {
   "cell_type": "code",
   "execution_count": 37,
   "id": "47e27cd4",
   "metadata": {},
   "outputs": [],
   "source": [
    "D=D.drop(5,axis=0)  #Dropped 5th row\n",
    "\n",
    "#inplace=True means droping from original DataFrame"
   ]
  },
  {
   "cell_type": "markdown",
   "id": "2bf01d74",
   "metadata": {},
   "source": [
    "## Specific display of values with one condition"
   ]
  },
  {
   "cell_type": "code",
   "execution_count": 40,
   "id": "91259d33",
   "metadata": {},
   "outputs": [
    {
     "data": {
      "text/html": [
       "<div>\n",
       "<style scoped>\n",
       "    .dataframe tbody tr th:only-of-type {\n",
       "        vertical-align: middle;\n",
       "    }\n",
       "\n",
       "    .dataframe tbody tr th {\n",
       "        vertical-align: top;\n",
       "    }\n",
       "\n",
       "    .dataframe thead th {\n",
       "        text-align: right;\n",
       "    }\n",
       "</style>\n",
       "<table border=\"1\" class=\"dataframe\">\n",
       "  <thead>\n",
       "    <tr style=\"text-align: right;\">\n",
       "      <th></th>\n",
       "      <th>A</th>\n",
       "      <th>B</th>\n",
       "      <th>C</th>\n",
       "    </tr>\n",
       "  </thead>\n",
       "  <tbody>\n",
       "    <tr>\n",
       "      <th>1</th>\n",
       "      <td>0.519148</td>\n",
       "      <td>9876.000000</td>\n",
       "      <td>0.471884</td>\n",
       "    </tr>\n",
       "    <tr>\n",
       "      <th>2</th>\n",
       "      <td>0.570717</td>\n",
       "      <td>0.501869</td>\n",
       "      <td>0.150706</td>\n",
       "    </tr>\n",
       "    <tr>\n",
       "      <th>3</th>\n",
       "      <td>0.452569</td>\n",
       "      <td>0.764782</td>\n",
       "      <td>0.121670</td>\n",
       "    </tr>\n",
       "  </tbody>\n",
       "</table>\n",
       "</div>"
      ],
      "text/plain": [
       "          A            B         C\n",
       "1  0.519148  9876.000000  0.471884\n",
       "2  0.570717     0.501869  0.150706\n",
       "3  0.452569     0.764782  0.121670"
      ]
     },
     "execution_count": 40,
     "metadata": {},
     "output_type": "execute_result"
    }
   ],
   "source": [
    "D.loc[(D['B']>0.3)] "
   ]
  },
  {
   "cell_type": "markdown",
   "id": "a26fcc9a",
   "metadata": {},
   "source": [
    "## Specific display of values with many condition"
   ]
  },
  {
   "cell_type": "code",
   "execution_count": 41,
   "id": "e029100d",
   "metadata": {},
   "outputs": [
    {
     "data": {
      "text/html": [
       "<div>\n",
       "<style scoped>\n",
       "    .dataframe tbody tr th:only-of-type {\n",
       "        vertical-align: middle;\n",
       "    }\n",
       "\n",
       "    .dataframe tbody tr th {\n",
       "        vertical-align: top;\n",
       "    }\n",
       "\n",
       "    .dataframe thead th {\n",
       "        text-align: right;\n",
       "    }\n",
       "</style>\n",
       "<table border=\"1\" class=\"dataframe\">\n",
       "  <thead>\n",
       "    <tr style=\"text-align: right;\">\n",
       "      <th></th>\n",
       "      <th>A</th>\n",
       "      <th>B</th>\n",
       "      <th>C</th>\n",
       "    </tr>\n",
       "  </thead>\n",
       "  <tbody>\n",
       "    <tr>\n",
       "      <th>2</th>\n",
       "      <td>0.570717</td>\n",
       "      <td>0.501869</td>\n",
       "      <td>0.150706</td>\n",
       "    </tr>\n",
       "    <tr>\n",
       "      <th>3</th>\n",
       "      <td>0.452569</td>\n",
       "      <td>0.764782</td>\n",
       "      <td>0.121670</td>\n",
       "    </tr>\n",
       "  </tbody>\n",
       "</table>\n",
       "</div>"
      ],
      "text/plain": [
       "          A         B         C\n",
       "2  0.570717  0.501869  0.150706\n",
       "3  0.452569  0.764782  0.121670"
      ]
     },
     "execution_count": 41,
     "metadata": {},
     "output_type": "execute_result"
    }
   ],
   "source": [
    "D.loc[(D['B']>0.3) & (D['C']<0.47)] "
   ]
  },
  {
   "cell_type": "code",
   "execution_count": 46,
   "id": "949ba2e8",
   "metadata": {},
   "outputs": [],
   "source": [
    "#iloc takes numbers instead of column names\n",
    "#0,1,2,3...."
   ]
  },
  {
   "cell_type": "code",
   "execution_count": null,
   "id": "9a0ad10c",
   "metadata": {},
   "outputs": [],
   "source": []
  }
 ],
 "metadata": {
  "kernelspec": {
   "display_name": "Python 3 (ipykernel)",
   "language": "python",
   "name": "python3"
  },
  "language_info": {
   "codemirror_mode": {
    "name": "ipython",
    "version": 3
   },
   "file_extension": ".py",
   "mimetype": "text/x-python",
   "name": "python",
   "nbconvert_exporter": "python",
   "pygments_lexer": "ipython3",
   "version": "3.9.12"
  }
 },
 "nbformat": 4,
 "nbformat_minor": 5
}
